{
 "cells": [
  {
   "cell_type": "code",
   "execution_count": 1,
   "id": "66d91c44",
   "metadata": {},
   "outputs": [
    {
     "ename": "NameError",
     "evalue": "name 'snowflake' is not defined",
     "output_type": "error",
     "traceback": [
      "\u001b[1;31m---------------------------------------------------------------------------\u001b[0m",
      "\u001b[1;31mNameError\u001b[0m                                 Traceback (most recent call last)",
      "Input \u001b[1;32mIn [1]\u001b[0m, in \u001b[0;36m<module>\u001b[1;34m\u001b[0m\n\u001b[0;32m      2\u001b[0m \u001b[38;5;28;01mfrom\u001b[39;00m \u001b[38;5;21;01msnowflake\u001b[39;00m\u001b[38;5;21;01m.\u001b[39;00m\u001b[38;5;21;01mconnector\u001b[39;00m\u001b[38;5;21;01m.\u001b[39;00m\u001b[38;5;21;01mpandas_tools\u001b[39;00m \u001b[38;5;28;01mimport\u001b[39;00m write_pandas\n\u001b[0;32m      4\u001b[0m \u001b[38;5;66;03m# Create the connection to the Snowflake database.\u001b[39;00m\n\u001b[1;32m----> 5\u001b[0m cnx \u001b[38;5;241m=\u001b[39m \u001b[43msnowflake\u001b[49m\u001b[38;5;241m.\u001b[39mconnector\u001b[38;5;241m.\u001b[39mconnect(\u001b[38;5;241m.\u001b[39m\u001b[38;5;241m.\u001b[39m\u001b[38;5;241m.\u001b[39m)\n\u001b[0;32m      7\u001b[0m \u001b[38;5;66;03m# Create a DataFrame containing data about customers\u001b[39;00m\n\u001b[0;32m      8\u001b[0m df \u001b[38;5;241m=\u001b[39m pandas\u001b[38;5;241m.\u001b[39mDataFrame([(\u001b[38;5;124m'\u001b[39m\u001b[38;5;124mMark\u001b[39m\u001b[38;5;124m'\u001b[39m, \u001b[38;5;241m10\u001b[39m), (\u001b[38;5;124m'\u001b[39m\u001b[38;5;124mLuke\u001b[39m\u001b[38;5;124m'\u001b[39m, \u001b[38;5;241m20\u001b[39m)], columns\u001b[38;5;241m=\u001b[39m[\u001b[38;5;124m'\u001b[39m\u001b[38;5;124mname\u001b[39m\u001b[38;5;124m'\u001b[39m, \u001b[38;5;124m'\u001b[39m\u001b[38;5;124mbalance\u001b[39m\u001b[38;5;124m'\u001b[39m])\n",
      "\u001b[1;31mNameError\u001b[0m: name 'snowflake' is not defined"
     ]
    }
   ],
   "source": [
    "import pandas\n",
    "from snowflake.connector.pandas_tools import write_pandas\n",
    "\n",
    "# Create the connection to the Snowflake database.\n",
    "cnx = snowflake.connector.connect(...)\n",
    "\n",
    "# Create a DataFrame containing data about customers\n",
    "df = pandas.DataFrame([('Mark', 10), ('Luke', 20)], columns=['name', 'balance'])\n",
    "\n",
    "# Write the data from the DataFrame to the table named \"customers\".\n",
    "success, nchunks, nrows, _ = write_pandas(cnx, df, 'customers')"
   ]
  },
  {
   "cell_type": "code",
   "execution_count": null,
   "id": "b360a1e7",
   "metadata": {},
   "outputs": [],
   "source": [
    "ctx = snowflake.connector.connect(\n",
    "    user='740964415',\n",
    "    password='SYn666999!',\n",
    "    account='xy12345',\n",
    "    ... )"
   ]
  },
  {
   "cell_type": "code",
   "execution_count": null,
   "id": "0763ebfe",
   "metadata": {},
   "outputs": [],
   "source": []
  }
 ],
 "metadata": {
  "kernelspec": {
   "display_name": "eods-s22",
   "language": "python",
   "name": "eods-s22"
  },
  "language_info": {
   "codemirror_mode": {
    "name": "ipython",
    "version": 3
   },
   "file_extension": ".py",
   "mimetype": "text/x-python",
   "name": "python",
   "nbconvert_exporter": "python",
   "pygments_lexer": "ipython3",
   "version": "3.9.9"
  }
 },
 "nbformat": 4,
 "nbformat_minor": 5
}
