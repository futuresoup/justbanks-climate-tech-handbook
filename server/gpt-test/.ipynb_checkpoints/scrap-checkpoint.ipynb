{
 "cells": [
  {
   "cell_type": "code",
   "execution_count": 1,
   "id": "e550c868",
   "metadata": {},
   "outputs": [],
   "source": [
    "from GoogleNews import GoogleNews\n",
    "from newspaper import Article\n",
    "from newspaper import Config\n",
    "import nltk\n",
    "import pandas as pd\n",
    "import os\n",
    "#nltk.download('punkt')"
   ]
  },
  {
   "cell_type": "code",
   "execution_count": 2,
   "id": "dad285c5",
   "metadata": {},
   "outputs": [],
   "source": [
    "def get_url(topic: str):\n",
    "    #The maximum number of news we can gather is 10 everytime\n",
    "    googlenews=GoogleNews(start='05/01/2022',end='05/31/2023')\n",
    "    googlenews.search(topic)\n",
    "    result=googlenews.result()\n",
    "    df=pd.DataFrame(result)\n",
    "\n",
    "    for i in range(1,3):\n",
    "        googlenews.getpage(i)\n",
    "        result=googlenews.result()\n",
    "        df=pd.DataFrame(result)\n",
    "\n",
    "    df = df[[\"title\",\"link\"]]\n",
    "    df.to_csv(f\"data/update/{topic}.csv\",index=False)"
   ]
  },
  {
   "cell_type": "code",
   "execution_count": 3,
   "id": "ddde0747",
   "metadata": {},
   "outputs": [],
   "source": [
    "df_topic = pd.read_csv(\"data/file_info.csv\")"
   ]
  },
  {
   "cell_type": "code",
   "execution_count": 4,
   "id": "d891c1dd",
   "metadata": {},
   "outputs": [],
   "source": [
    "def get_topic(start: int, end: int, df):\n",
    "    end=min(end, df.shape[0])\n",
    "    df=df.iloc[start:end]\n",
    "    for index, row in df.iterrows():\n",
    "        get_url(row['Topic'])"
   ]
  },
  {
   "cell_type": "code",
   "execution_count": 5,
   "id": "db2807e6",
   "metadata": {},
   "outputs": [],
   "source": [
    "get_topic(0, 5, df_topic)"
   ]
  },
  {
   "cell_type": "code",
   "execution_count": 6,
   "id": "677df8ad",
   "metadata": {},
   "outputs": [],
   "source": [
    "#The Basics of downloading the article to memory\n",
    "def add_article(topic:str, url: str,  *exceptions):\n",
    "    #First check the existence of topic (or maybe it can be checked in database)\n",
    "    columns = ['Heading','Subtitle','First','Text','Source']\n",
    "    datafile_path = f\"data/articles/{topic}.csv\"\n",
    "    if not os.path.exists(datafile_path):\n",
    "        df_article=pd.DataFrame(columns=columns)\n",
    "        df_article.to_csv(datafile_path, index=False)\n",
    "        \n",
    "    article = Article(url)\n",
    "    article.download()\n",
    "    article.parse()\n",
    "    article.nlp()\n",
    "\n",
    "    heading=article.title\n",
    "    temp=article.text.split(\"\\n\")\n",
    "    subtitle=\"\"\n",
    "    \n",
    "    for item in temp:\n",
    "        if item != \"\":\n",
    "            words=item.split(\" \")\n",
    "            if len(words)<=7:\n",
    "                subtitle=item\n",
    "                continue\n",
    "            \n",
    "            sentences=item.split(\". \",1)\n",
    "            if len(sentences)==1:\n",
    "                first=sentences[0]\n",
    "                text=\"\"\n",
    "            else:\n",
    "                first, text=sentences[0], sentences[1]  \n",
    "            new_df=pd.DataFrame({\"Heading\":heading,\"Subtitle\":subtitle, \"First\": first, \"Text\": text, \"Source\": url},index=[0])\n",
    "            #print(new_df)\n",
    "            new_df.to_csv(datafile_path,mode='a', index=False, header=False)"
   ]
  },
  {
   "cell_type": "code",
   "execution_count": 7,
   "id": "c083959a",
   "metadata": {},
   "outputs": [],
   "source": [
    "def check_update(topic):\n",
    "    columns = ['title','link']\n",
    "    \n",
    "    #\n",
    "    datafile_path_update = f\"data/update/{topic}.csv\"\n",
    "    if not os.path.exists(datafile_path_update):\n",
    "        return\n",
    "    else:\n",
    "        df_update=pd.read_csv(datafile_path_update)\n",
    "    \n",
    "    #\n",
    "    datafile_path_old=f\"data/old/{topic}.csv\"\n",
    "    if not os.path.exists(datafile_path_old):\n",
    "        df_old = pd.DataFrame(columns=columns)\n",
    "    else:\n",
    "        df_old=pd.read_csv(datafile_path_old)\n",
    "    \n",
    "    for index, row in df_update.iterrows():\n",
    "        if row['link'] not in df_old['link']:\n",
    "            df_old.loc[len(df_old)] = row\n",
    "            #print(df_old.shape)\n",
    "            try:\n",
    "                add_article(topic, row['link'])\n",
    "            except:\n",
    "                #\n",
    "                pass\n",
    "            \n",
    "    df_update=pd.DataFrame(columns=columns)\n",
    "    df_update.to_csv(datafile_path_update,index=False)\n",
    "    df_old.to_csv(datafile_path_old,index=False)"
   ]
  },
  {
   "cell_type": "code",
   "execution_count": 8,
   "id": "e67a0a60",
   "metadata": {},
   "outputs": [],
   "source": [
    "def scrap(start, end, df):\n",
    "    df=df.iloc[start:end]\n",
    "    for index, row in df.iterrows():\n",
    "        check_update(row['Topic'])"
   ]
  },
  {
   "cell_type": "code",
   "execution_count": 9,
   "id": "fefe081c",
   "metadata": {},
   "outputs": [
    {
     "name": "stderr",
     "output_type": "stream",
     "text": [
      "C:\\Users\\Administrator\\anaconda3\\envs\\eods-s22\\lib\\site-packages\\dateutil\\parser\\_parser.py:1207: UnknownTimezoneWarning: tzname PST identified but not understood.  Pass `tzinfos` argument in order to correctly return a timezone-aware datetime.  In a future version, this will raise an exception.\n",
      "  warnings.warn(\"tzname {tzname} identified but not understood.  \"\n"
     ]
    }
   ],
   "source": [
    "scrap(0,5,df_topic)"
   ]
  },
  {
   "cell_type": "code",
   "execution_count": null,
   "id": "b8919936",
   "metadata": {},
   "outputs": [],
   "source": []
  }
 ],
 "metadata": {
  "kernelspec": {
   "display_name": "eods-s22",
   "language": "python",
   "name": "eods-s22"
  },
  "language_info": {
   "codemirror_mode": {
    "name": "ipython",
    "version": 3
   },
   "file_extension": ".py",
   "mimetype": "text/x-python",
   "name": "python",
   "nbconvert_exporter": "python",
   "pygments_lexer": "ipython3",
   "version": "3.9.9"
  }
 },
 "nbformat": 4,
 "nbformat_minor": 5
}
